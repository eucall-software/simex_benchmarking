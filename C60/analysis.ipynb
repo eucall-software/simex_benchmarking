{
 "cells": [
  {
   "cell_type": "code",
   "execution_count": 1,
   "metadata": {
    "collapsed": true
   },
   "outputs": [],
   "source": [
    "%matplotlib inline"
   ]
  },
  {
   "cell_type": "code",
   "execution_count": 2,
   "metadata": {
    "collapsed": false
   },
   "outputs": [
    {
     "name": "stderr",
     "output_type": "stream",
     "text": [
      "/usr/lib64/python3.4/importlib/_bootstrap.py:321: FutureWarning: Conversion of the second argument of issubdtype from `float` to `np.floating` is deprecated. In future, it will be treated as `np.float64 == np.dtype(float).type`.\n",
      "  return f(*args, **kwds)\n"
     ]
    },
    {
     "name": "stdout",
     "output_type": "stream",
     "text": [
      "initializing ocelot...\n",
      "\n",
      "WARNING: esther_execute could not be imported. This is most probably due to Esther not being installed or not found. Expect RunTimeErrors when attempting to run the EstherPhotonMatterInteractor.backengine().\n"
     ]
    }
   ],
   "source": [
    "from SimEx.Analysis.DiffractionAnalysis import DiffractionAnalysis\n",
    "\n",
    "import numpy, pyFAI\n",
    "from matplotlib import pyplot as plt\n",
    "import os, h5py"
   ]
  },
  {
   "cell_type": "code",
   "execution_count": 3,
   "metadata": {
    "collapsed": true
   },
   "outputs": [],
   "source": [
    "pattern_indices = 'all'\n",
    "input_path=\"diffr.h5\""
   ]
  },
  {
   "cell_type": "code",
   "execution_count": 9,
   "metadata": {
    "collapsed": true
   },
   "outputs": [],
   "source": [
    "def azimuthalIntegration(pattern, parameters):\n",
    "\n",
    "    # Extract parameters.\n",
    "    beam = parameters['beam']\n",
    "    geom = parameters['geom']\n",
    "\n",
    "    # Photon energy and wavelength\n",
    "    E0 = beam['photonEnergy']\n",
    "    lmd = 1239.8 / E0\n",
    "\n",
    "    # Pixel dimension\n",
    "    apix = geom['pixelWidth']\n",
    "    # Sample-detector distance\n",
    "    Ddet = geom['detectorDist']\n",
    "    # Number of pixels in each dimension\n",
    "    Npix = geom['mask'].shape[0]\n",
    "\n",
    "    # Find center.\n",
    "    center = 0.5*(Npix-1)\n",
    "\n",
    "    azimuthal_integrator = pyFAI.AzimuthalIntegrator(\n",
    "            dist=Ddet,\n",
    "            pixel1=apix,\n",
    "            pixel2=apix,\n",
    "            wavelength=lmd*1e-9)\n",
    "\n",
    "\n",
    "    azimuthal_integrator.setFit2D(\n",
    "            directDist=Ddet*1e3,\n",
    "            centerX=center,\n",
    "            centerY=center,\n",
    "            tilt=0.0,\n",
    "            tiltPlanRotation=0.0,\n",
    "            pixelX=apix*1e6,\n",
    "            pixelY=apix*1e6,\n",
    "            )\n",
    "    qs, intensities = azimuthal_integrator.integrate1d(\n",
    "            pattern,\n",
    "            min(Npix,1024),\n",
    "            #unit=\"q_nm^-1\",\n",
    "            unit=\"2th_deg\",\n",
    "            )\n",
    "\n",
    "    return qs, intensities"
   ]
  },
  {
   "cell_type": "code",
   "execution_count": 6,
   "metadata": {
    "collapsed": true
   },
   "outputs": [],
   "source": [
    "def diffractionParameters(path):\n",
    "    \"\"\" Extract beam parameters and geometry from given file or directory.\n",
    "\n",
    "    :param path: Path to file that holds the parameters to extract.\n",
    "    :type path: str\n",
    "\n",
    "    \"\"\"\n",
    "\n",
    "    # Check if old style.\n",
    "    if os.path.isdir(path):\n",
    "        h5_file = os.path.join(path, \"diffr_out_0000001.h5\")\n",
    "    elif os.path.isfile(path):\n",
    "        h5_file = path\n",
    "    else:\n",
    "        raise IOError(\"%s: no such file or directory.\" % (path))\n",
    "\n",
    "    # Setup return dictionary.\n",
    "    parameters_dict = {'beam':{}, 'geom':{}}\n",
    "\n",
    "    # Open file.\n",
    "    try:\n",
    "        with h5py.File(h5_file, 'r') as h5:\n",
    "            # Loop over entries in /params.\n",
    "            for top_key in ['beam', 'geom']:\n",
    "                # Loop over groups.\n",
    "                for key, val in h5['params/%s' % (top_key)].items():\n",
    "                    # Insert into return dictionary.\n",
    "                    parameters_dict[top_key][key] = val.value\n",
    "    except:\n",
    "        pass\n",
    "    # Return.\n",
    "    return parameters_dict"
   ]
  },
  {
   "cell_type": "code",
   "execution_count": 21,
   "metadata": {
    "collapsed": true
   },
   "outputs": [],
   "source": [
    "analyzer = DiffractionAnalysis(input_path=input_path,\n",
    "                               pattern_indices=pattern_indices,\n",
    "                               poissonize=True\n",
    "                               )\n",
    "\n",
    "parameters = diffractionParameters(input_path)\n",
    "nx, ny = parameters[\"geom\"][\"mask\"].shape\n",
    "mask = parameters[\"geom\"][\"mask\"]\n",
    "nx,ny = mask.shape\n",
    "beamstop = 50\n",
    "mask[nx//2-beamstop//2:nx//2+beamstop//2+1, ny//2-beamstop//2:ny//2+beamstop//2+1] = 0.0\n",
    "analyzer.mask = mask\n",
    "\n",
    "pattern = numpy.mean([p for p in analyzer.patterns_iterator],axis=0)\n",
    "qs, intensities = azimuthalIntegration(pattern, diffractionParameters(input_path))"
   ]
  },
  {
   "cell_type": "code",
   "execution_count": 18,
   "metadata": {
    "collapsed": false
   },
   "outputs": [],
   "source": [
    "lk_88_phaseA_histogram = numpy.load('lk88_phaseA_angles_vs_weights.npz')\n",
    "weights = lk_88_phaseA_histogram['weights']\n",
    "angles = lk_88_phaseA_histogram['angles']"
   ]
  },
  {
   "cell_type": "code",
   "execution_count": 41,
   "metadata": {
    "collapsed": false
   },
   "outputs": [
    {
     "data": {
      "text/plain": [
       "True"
      ]
     },
     "execution_count": 41,
     "metadata": {},
     "output_type": "execute_result"
    }
   ],
   "source": [
    "'c60_powder.mecury.tsv' in os.listdir('.')"
   ]
  },
  {
   "cell_type": "code",
   "execution_count": 42,
   "metadata": {
    "collapsed": false
   },
   "outputs": [],
   "source": [
    "mercury_powder = numpy.loadtxt('c60_powder.mecury.tsv')"
   ]
  },
  {
   "cell_type": "code",
   "execution_count": 50,
   "metadata": {
    "collapsed": false
   },
   "outputs": [
    {
     "data": {
      "image/png": "[encoded data removed]",
      "text/plain": [
       "<matplotlib.figure.Figure at 0x2abbf379dcf8>"
      ]
     },
     "metadata": {},
     "output_type": "display_data"
    }
   ],
   "source": [
    "plt.plot(qs, intensities, label=\"SimEx (singfel)\")\n",
    "plt.hist(x=angles,weights=weights/weights.max()/100.,bins=35, label='CXI data')\n",
    "plt.plot(mercury_powder[:,0], mercury_powder[:,1]/20000, label=\"mercury\")\n",
    "plt.xlabel(r\"$2\\theta$ (deg)\")\n",
    "plt.ylabel(\"Diffracted intensity (arb. units)\")\n",
    "\n",
    "plt.legend()\n",
    "\n",
    "plt.xlim([20,37])\n",
    "plt.ylim([0,0.1])\n",
    "\n",
    "plt.savefig(\"CXIK8816_phaseAfcc_data_vs_simex_noRD.png\", dpi=300)"
   ]
  }
 ],
 "metadata": {
  "kernelspec": {
   "display_name": "Python 3",
   "language": "python",
   "name": "python3"
  },
  "language_info": {
   "codemirror_mode": {
    "name": "ipython",
    "version": 3
   },
   "file_extension": ".py",
   "mimetype": "text/x-python",
   "name": "python",
   "nbconvert_exporter": "python",
   "pygments_lexer": "ipython3",
   "version": "3.4.5"
  }
 },
 "nbformat": 4,
 "nbformat_minor": 2
}
