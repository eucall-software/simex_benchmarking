{
 "cells": [
  {
   "cell_type": "code",
   "execution_count": 1,
   "metadata": {
    "collapsed": true
   },
   "outputs": [],
   "source": [
    "%matplotlib inline"
   ]
  },
  {
   "cell_type": "code",
   "execution_count": 56,
   "metadata": {
    "collapsed": false
   },
   "outputs": [],
   "source": [
    "import os, sys, shutil, h5py\n",
    "import numpy\n",
    "from matplotlib import pyplot as plt"
   ]
  },
  {
   "cell_type": "code",
   "execution_count": 33,
   "metadata": {
    "collapsed": true
   },
   "outputs": [],
   "source": [
    "root_path = '/home/grotec/Projects'"
   ]
  },
  {
   "cell_type": "markdown",
   "metadata": {},
   "source": [
    "# Run 40"
   ]
  },
  {
   "cell_type": "code",
   "execution_count": 61,
   "metadata": {
    "collapsed": false
   },
   "outputs": [
    {
     "name": "stdout",
     "output_type": "stream",
     "text": [
      "/home/grotec/Projects/LK88/scripts/results/cxik8816_run40_Bcontent.txt\n",
      "/home/grotec/Projects/LK88/data/cxik8816_run40_peak_vs_radii.h5\n",
      "/home/grotec/Projects/LK88/scripts/results/cxik8816_run41_Bcontent.txt\n",
      "/home/grotec/Projects/LK88/data/cxik8816_run41_peak_vs_radii.h5\n",
      "/home/grotec/Projects/LK88/scripts/results/cxik8816_run42_Bcontent.txt\n",
      "/home/grotec/Projects/LK88/data/cxik8816_run42_peak_vs_radii.h5\n",
      "/home/grotec/Projects/LK88/scripts/results/cxik8816_run43_Bcontent.txt\n",
      "/home/grotec/Projects/LK88/data/cxik8816_run43_peak_vs_radii.h5\n",
      "/home/grotec/Projects/LK88/scripts/results/cxik8816_run44_Bcontent.txt\n",
      "/home/grotec/Projects/LK88/data/cxik8816_run44_peak_vs_radii.h5\n",
      "/home/grotec/Projects/LK88/scripts/results/cxik8816_run45_Bcontent.txt\n",
      "/home/grotec/Projects/LK88/data/cxik8816_run45_peak_vs_radii.h5\n",
      "/home/grotec/Projects/LK88/scripts/results/cxik8816_run46_Bcontent.txt\n",
      "/home/grotec/Projects/LK88/data/cxik8816_run46_peak_vs_radii.h5\n",
      "/home/grotec/Projects/LK88/scripts/results/cxik8816_run47_Bcontent.txt\n",
      "/home/grotec/Projects/LK88/data/cxik8816_run47_peak_vs_radii.h5\n",
      "/home/grotec/Projects/LK88/scripts/results/cxik8816_run48_Bcontent.txt\n",
      "/home/grotec/Projects/LK88/data/cxik8816_run48_peak_vs_radii.h5\n",
      "/home/grotec/Projects/LK88/scripts/results/cxik8816_run49_Bcontent.txt\n",
      "/home/grotec/Projects/LK88/data/cxik8816_run49_peak_vs_radii.h5\n"
     ]
    }
   ],
   "source": [
    "runs=range(40,50)\n",
    "\n",
    "angles=[]\n",
    "weights=[]\n",
    "\n",
    "for run in runs:\n",
    "\n",
    "\n",
    "    # Load phase content file\n",
    "    content_file = root_path+'/LK88/scripts/results/cxik8816_run%d_Bcontent.txt' % (run)\n",
    "    print(content_file)\n",
    "    content_data = numpy.loadtxt(content_file)\n",
    "\n",
    "    powder_file = root_path+'/LK88/data/cxik8816_run%d_peak_vs_radii.h5' % (run)\n",
    "    print(powder_file)\n",
    "\n",
    "    a_indices = numpy.argwhere(content_data < 0.25)[:,0]\n",
    "\n",
    "    a_indices\n",
    "\n",
    "    with h5py.File(powder_file, 'r') as h5:\n",
    "        for i in a_indices:\n",
    "            try:\n",
    "                angles+=h5['/data/%d/angles' % (i)].value.tolist()\n",
    "                weights+= h5['/data/%d/weights' % (i)].value.tolist()\n",
    "            except KeyError:\n",
    "                continue\n",
    "            except:\n",
    "                raise\n",
    "\n",
    "\n",
    "    len(weights), len(angles)"
   ]
  },
  {
   "cell_type": "code",
   "execution_count": 67,
   "metadata": {
    "collapsed": false
   },
   "outputs": [
    {
     "data": {
      "image/png": "[encoded data removed]",
      "text/plain": [
       "<matplotlib.figure.Figure at 0x2aad7dec9748>"
      ]
     },
     "metadata": {},
     "output_type": "display_data"
    }
   ],
   "source": [
    "hist = plt.hist(x=angles,weights=weights,bins=40)"
   ]
  },
  {
   "cell_type": "code",
   "execution_count": 68,
   "metadata": {
    "collapsed": true
   },
   "outputs": [],
   "source": [
    "cumweights, bin_edges = hist[0:2]"
   ]
  },
  {
   "cell_type": "code",
   "execution_count": 72,
   "metadata": {
    "collapsed": true
   },
   "outputs": [],
   "source": [
    "numpy.savez(\"lk88_phaseA_angles_vs_weights.npz\", weights=weights, angles=angles)"
   ]
  },
  {
   "cell_type": "code",
   "execution_count": 71,
   "metadata": {
    "collapsed": false
   },
   "outputs": [
    {
     "name": "stdout",
     "output_type": "stream",
     "text": [
      "total 258048\r\n",
      "-rw-r--r-- 1 grotec exfel      3526 Oct 14  2017 c60_fcc.cif\r\n",
      "-rw-r--r-- 1 grotec exfel  10002436 Apr 18 15:27 c60_super10.xyz\r\n",
      "-rw-r--r-- 1 grotec exfel      9359 Apr 18 15:30 c60.xyz\r\n",
      "-rw-r--r-- 1 grotec exfel       556 Apr 18 15:59 tmp.geom\r\n",
      "-rw-r--r-- 1 grotec exfel       200 Apr 18 15:59 tmp.beam\r\n",
      "-rw-r--r-- 1 grotec exfel  19441627 Apr 18 16:01 c60_super10.pdb\r\n",
      "-rw-r--r-- 1 grotec exfel     21067 Apr 18 16:05 c60.pdb\r\n",
      "-rw-r--r-- 1 grotec exfel       395 Apr 19 13:22 gapd.slurm.sh\r\n",
      "-rw-r--r-- 1 grotec exfel      3558 Apr 19 13:34 c60_gapd.in\r\n",
      "-rw-r--r-- 1 grotec exfel 231310423 Apr 19 13:39 c60_super10.00-1.kspace.dat\r\n",
      "-rw-r--r-- 1 grotec exfel       133 Apr 25 14:08 notes.text\r\n",
      "-rw-r--r-- 1 grotec exfel     32682 Apr 25 16:00 singfel-981075.log\r\n",
      "-rw-r--r-- 1 grotec exfel       463 Apr 25 16:02 singfel.slurm.sh\r\n",
      "-rw-r--r-- 1 grotec exfel      4176 Apr 25 16:03 d1da7043-567b-41ea-bac5-43418f667108\r\n",
      "drwxr-xr-x 2 grotec exfel      4096 Apr 25 16:03 diffr\r\n",
      "-rw-r--r-- 1 grotec exfel     34282 May  2 16:03 singfel-981077.log\r\n",
      "-rw-r--r-- 1 grotec exfel      1613 May  7 11:12 singfel.py\r\n",
      "-rw-r--r-- 1 grotec exfel    485726 May  7 11:20 diffr.h5\r\n",
      "-rw-r--r-- 1 grotec exfel     30017 May  7 12:34 c60_powder.mecury.tsv\r\n",
      "-rw-r--r-- 1 grotec exfel      2815 May  7 12:42 c60_powder_reflections.hkl\r\n",
      "-rw-r--r-- 1 grotec exfel      3108 May  7 14:20 powder_analysis.py\r\n",
      "-rw-r--r-- 1 grotec exfel     31896 May  7 14:22 c60_powder_simex.png\r\n",
      "-rw-r--r-- 1 grotec exfel     17065 May  8 10:40 analysis.ipynb\r\n",
      "-rw-r--r-- 1 grotec exfel     10291 May  8 11:04 lk88_powder_pattern_phaseA.ipynb\r\n",
      "-rw-r--r-- 1 grotec exfel      1126 May  8 11:06 lk88_phaseA_powderhistogram.npz\r\n"
     ]
    }
   ],
   "source": [
    "!ls -lrt"
   ]
  },
  {
   "cell_type": "code",
   "execution_count": null,
   "metadata": {
    "collapsed": true
   },
   "outputs": [],
   "source": []
  }
 ],
 "metadata": {
  "kernelspec": {
   "display_name": "Python 3",
   "language": "python",
   "name": "python3"
  },
  "language_info": {
   "codemirror_mode": {
    "name": "ipython",
    "version": 3
   },
   "file_extension": ".py",
   "mimetype": "text/x-python",
   "name": "python",
   "nbconvert_exporter": "python",
   "pygments_lexer": "ipython3",
   "version": "3.4.5"
  }
 },
 "nbformat": 4,
 "nbformat_minor": 2
}
